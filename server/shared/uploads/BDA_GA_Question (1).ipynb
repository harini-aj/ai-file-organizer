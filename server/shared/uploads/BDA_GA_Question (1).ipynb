{
 "cells": [
  {
   "cell_type": "markdown",
   "id": "260b8eab",
   "metadata": {
    "id": "260b8eab"
   },
   "source": [
    "### BiG Data Analytics : Greaded Assesment  ( 20 Marks)\n",
    "\n"
   ]
  },
  {
   "cell_type": "markdown",
   "id": "6974d1b0",
   "metadata": {
    "id": "6974d1b0"
   },
   "source": [
    "#### Instructions :\n",
    "\n",
    "- The solution  notebook should idealy has to be run inside the DataBricks community edition and excuted solution should be svaed as .html file.  (File>Export> HTML)\n",
    "\n",
    "- Ensure notebook is executed without any error and all excuted- cell output sholuld be clearly visible  in the  saved/uploaded (.html) file'.\n",
    "\n",
    "\n",
    "- However, If students has Spark setup inside their local system (with jupyter notebook)  they can execute the solution locally also. Excuted solution should be svaed as .html file and Ensure notebook is executed without any error and all excuted- cell output sholuld be clearly visible  in the  saved/uploaded (.html) file. (File>Download as>.html)\n"
   ]
  },
  {
   "cell_type": "markdown",
   "id": "245816bd",
   "metadata": {
    "id": "245816bd"
   },
   "source": [
    "#### DataSet : Mumbai.csv\n",
    "\n",
    "Housing dataset of India's financial capital is provided. \n",
    "Dataset contains, collection of prices of new and resale houses located in the Mumbai and the amenities provided with each house.\n",
    "\n",
    "Process the dataset as questioned below using spark libraries. "
   ]
  },
  {
   "cell_type": "code",
   "execution_count": 4,
   "id": "4f364503",
   "metadata": {
    "id": "4f364503"
   },
   "outputs": [],
   "source": [
    "# import statements\n",
    " \n",
    "from pyspark.context import SparkContext\n",
    "from pyspark.sql.session import SparkSession\n",
    "from pyspark.ml.feature import StringIndexer\n",
    "from pyspark.ml.feature import VectorAssembler\n",
    "from pyspark.sql.functions import isnull, when, count, col\n",
    "from pyspark.ml.evaluation import RegressionEvaluator\n",
    "from pyspark.ml.feature import VectorAssembler, StandardScaler\n",
    "from pyspark.ml.regression import LinearRegression\n",
    " "
   ]
  },
  {
   "cell_type": "markdown",
   "id": "d0ae53c9",
   "metadata": {
    "id": "d0ae53c9"
   },
   "source": [
    "####  Create Spark Session  & Load the  provided dataset into  spark-dataframe "
   ]
  },
  {
   "cell_type": "code",
   "execution_count": 10,
   "id": "a1b5cb00",
   "metadata": {
    "id": "a1b5cb00"
   },
   "outputs": [
    {
     "data": {
      "text/plain": [
       "DataFrame[Price: int, Area: int, Location: string, No. of Bedrooms: int, Resale: int, MaintenanceStaff: int, Gymnasium: int, SwimmingPool: int, LandscapedGardens: int, JoggingTrack: int, RainWaterHarvesting: int, IndoorGames: int, ShoppingMall: int, Intercom: int, SportsFacility: int, ATM: int, ClubHouse: int, School: int, 24X7Security: int, PowerBackup: int, CarParking: int, StaffQuarter: int, Cafeteria: int, MultipurposeRoom: int, Hospital: int, WashingMachine: int, Gasconnection: int, AC: int, Wifi: int, Children'splayarea: int, LiftAvailable: int, BED: int, VaastuCompliant: int, Microwave: int, GolfCourse: int, TV: int, DiningTable: int, Sofa: int, Wardrobe: int, Refrigerator: int]"
      ]
     },
     "metadata": {},
     "output_type": "display_data"
    }
   ],
   "source": [
    "### If excuting in localdatabrics community edition\n",
    "## load the Mumbai.csv inside databrics community edition  and  Use this code while excuting in databrics community edition \n",
    "# #Note : in databricks community edition : \n",
    "\n",
    "# # reference code to load in databrics \n",
    "# # File location and type\n",
    "file_location = \"Mumbai.csv\"\n",
    "file_type = \"csv\"\n",
    "\n",
    "# # CSV options\n",
    "infer_schema = \"True\"\n",
    "first_row_is_header = \"True\"\n",
    "delimiter = \",\"\n",
    "\n",
    "sc = SparkContext.getOrCreate()\n",
    "spark = SparkSession(sc)\n",
    "\n",
    "# # The applied options are for CSV files. For other file types, these will be ignored.\n",
    "df=spark.read.format(\"csv\").option(\"header\", \"True\").option(\"inferschema\",\"True\").load(file_location) \n",
    "\n",
    "display(df)"
   ]
  },
  {
   "cell_type": "markdown",
   "id": "00d9a3df",
   "metadata": {
    "id": "00d9a3df"
   },
   "source": [
    "#### 1. Show/print  schema of the dataframe  (1 marks)"
   ]
  },
  {
   "cell_type": "code",
   "execution_count": 11,
   "id": "6293e450",
   "metadata": {
    "id": "6293e450"
   },
   "outputs": [
    {
     "name": "stdout",
     "output_type": "stream",
     "text": [
      "root\n",
      " |-- Price: integer (nullable = true)\n",
      " |-- Area: integer (nullable = true)\n",
      " |-- Location: string (nullable = true)\n",
      " |-- No. of Bedrooms: integer (nullable = true)\n",
      " |-- Resale: integer (nullable = true)\n",
      " |-- MaintenanceStaff: integer (nullable = true)\n",
      " |-- Gymnasium: integer (nullable = true)\n",
      " |-- SwimmingPool: integer (nullable = true)\n",
      " |-- LandscapedGardens: integer (nullable = true)\n",
      " |-- JoggingTrack: integer (nullable = true)\n",
      " |-- RainWaterHarvesting: integer (nullable = true)\n",
      " |-- IndoorGames: integer (nullable = true)\n",
      " |-- ShoppingMall: integer (nullable = true)\n",
      " |-- Intercom: integer (nullable = true)\n",
      " |-- SportsFacility: integer (nullable = true)\n",
      " |-- ATM: integer (nullable = true)\n",
      " |-- ClubHouse: integer (nullable = true)\n",
      " |-- School: integer (nullable = true)\n",
      " |-- 24X7Security: integer (nullable = true)\n",
      " |-- PowerBackup: integer (nullable = true)\n",
      " |-- CarParking: integer (nullable = true)\n",
      " |-- StaffQuarter: integer (nullable = true)\n",
      " |-- Cafeteria: integer (nullable = true)\n",
      " |-- MultipurposeRoom: integer (nullable = true)\n",
      " |-- Hospital: integer (nullable = true)\n",
      " |-- WashingMachine: integer (nullable = true)\n",
      " |-- Gasconnection: integer (nullable = true)\n",
      " |-- AC: integer (nullable = true)\n",
      " |-- Wifi: integer (nullable = true)\n",
      " |-- Children'splayarea: integer (nullable = true)\n",
      " |-- LiftAvailable: integer (nullable = true)\n",
      " |-- BED: integer (nullable = true)\n",
      " |-- VaastuCompliant: integer (nullable = true)\n",
      " |-- Microwave: integer (nullable = true)\n",
      " |-- GolfCourse: integer (nullable = true)\n",
      " |-- TV: integer (nullable = true)\n",
      " |-- DiningTable: integer (nullable = true)\n",
      " |-- Sofa: integer (nullable = true)\n",
      " |-- Wardrobe: integer (nullable = true)\n",
      " |-- Refrigerator: integer (nullable = true)\n",
      "\n"
     ]
    }
   ],
   "source": [
    "df.printSchema()"
   ]
  },
  {
   "cell_type": "markdown",
   "id": "66c88197",
   "metadata": {
    "id": "66c88197"
   },
   "source": [
    "#### 2. Delete  the column - \"No. of Bedrooms\"  from the spark dataframe ( 1 marks)"
   ]
  },
  {
   "cell_type": "code",
   "execution_count": 12,
   "id": "4d0544eb",
   "metadata": {
    "id": "4d0544eb"
   },
   "outputs": [
    {
     "name": "stdout",
     "output_type": "stream",
     "text": [
      "root\n",
      " |-- Price: integer (nullable = true)\n",
      " |-- Area: integer (nullable = true)\n",
      " |-- Location: string (nullable = true)\n",
      " |-- Resale: integer (nullable = true)\n",
      " |-- MaintenanceStaff: integer (nullable = true)\n",
      " |-- Gymnasium: integer (nullable = true)\n",
      " |-- SwimmingPool: integer (nullable = true)\n",
      " |-- LandscapedGardens: integer (nullable = true)\n",
      " |-- JoggingTrack: integer (nullable = true)\n",
      " |-- RainWaterHarvesting: integer (nullable = true)\n",
      " |-- IndoorGames: integer (nullable = true)\n",
      " |-- ShoppingMall: integer (nullable = true)\n",
      " |-- Intercom: integer (nullable = true)\n",
      " |-- SportsFacility: integer (nullable = true)\n",
      " |-- ATM: integer (nullable = true)\n",
      " |-- ClubHouse: integer (nullable = true)\n",
      " |-- School: integer (nullable = true)\n",
      " |-- 24X7Security: integer (nullable = true)\n",
      " |-- PowerBackup: integer (nullable = true)\n",
      " |-- CarParking: integer (nullable = true)\n",
      " |-- StaffQuarter: integer (nullable = true)\n",
      " |-- Cafeteria: integer (nullable = true)\n",
      " |-- MultipurposeRoom: integer (nullable = true)\n",
      " |-- Hospital: integer (nullable = true)\n",
      " |-- WashingMachine: integer (nullable = true)\n",
      " |-- Gasconnection: integer (nullable = true)\n",
      " |-- AC: integer (nullable = true)\n",
      " |-- Wifi: integer (nullable = true)\n",
      " |-- Children'splayarea: integer (nullable = true)\n",
      " |-- LiftAvailable: integer (nullable = true)\n",
      " |-- BED: integer (nullable = true)\n",
      " |-- VaastuCompliant: integer (nullable = true)\n",
      " |-- Microwave: integer (nullable = true)\n",
      " |-- GolfCourse: integer (nullable = true)\n",
      " |-- TV: integer (nullable = true)\n",
      " |-- DiningTable: integer (nullable = true)\n",
      " |-- Sofa: integer (nullable = true)\n",
      " |-- Wardrobe: integer (nullable = true)\n",
      " |-- Refrigerator: integer (nullable = true)\n",
      "\n"
     ]
    }
   ],
   "source": [
    "df = df.drop(\"No. of Bedrooms\")\n",
    "df.printSchema()"
   ]
  },
  {
   "cell_type": "code",
   "execution_count": null,
   "id": "068edccb",
   "metadata": {
    "id": "068edccb"
   },
   "outputs": [],
   "source": []
  },
  {
   "cell_type": "markdown",
   "id": "be09992e",
   "metadata": {
    "id": "be09992e"
   },
   "source": [
    "#### 3. Convert string column (i.e. \"Location)  into numeric values using StringIndexer transformer and make sure now DataFrame does not have any string columns anymore. (3marks)"
   ]
  },
  {
   "cell_type": "code",
   "execution_count": 33,
   "id": "06a9ee5c",
   "metadata": {
    "id": "06a9ee5c"
   },
   "outputs": [
    {
     "name": "stdout",
     "output_type": "stream",
     "text": [
      "root\n",
      " |-- Price: integer (nullable = true)\n",
      " |-- Area: integer (nullable = true)\n",
      " |-- Resale: integer (nullable = true)\n",
      " |-- MaintenanceStaff: integer (nullable = true)\n",
      " |-- Gymnasium: integer (nullable = true)\n",
      " |-- SwimmingPool: integer (nullable = true)\n",
      " |-- LandscapedGardens: integer (nullable = true)\n",
      " |-- JoggingTrack: integer (nullable = true)\n",
      " |-- RainWaterHarvesting: integer (nullable = true)\n",
      " |-- IndoorGames: integer (nullable = true)\n",
      " |-- ShoppingMall: integer (nullable = true)\n",
      " |-- Intercom: integer (nullable = true)\n",
      " |-- SportsFacility: integer (nullable = true)\n",
      " |-- ATM: integer (nullable = true)\n",
      " |-- ClubHouse: integer (nullable = true)\n",
      " |-- School: integer (nullable = true)\n",
      " |-- 24X7Security: integer (nullable = true)\n",
      " |-- PowerBackup: integer (nullable = true)\n",
      " |-- CarParking: integer (nullable = true)\n",
      " |-- StaffQuarter: integer (nullable = true)\n",
      " |-- Cafeteria: integer (nullable = true)\n",
      " |-- MultipurposeRoom: integer (nullable = true)\n",
      " |-- Hospital: integer (nullable = true)\n",
      " |-- WashingMachine: integer (nullable = true)\n",
      " |-- Gasconnection: integer (nullable = true)\n",
      " |-- AC: integer (nullable = true)\n",
      " |-- Wifi: integer (nullable = true)\n",
      " |-- Children'splayarea: integer (nullable = true)\n",
      " |-- LiftAvailable: integer (nullable = true)\n",
      " |-- BED: integer (nullable = true)\n",
      " |-- VaastuCompliant: integer (nullable = true)\n",
      " |-- Microwave: integer (nullable = true)\n",
      " |-- GolfCourse: integer (nullable = true)\n",
      " |-- TV: integer (nullable = true)\n",
      " |-- DiningTable: integer (nullable = true)\n",
      " |-- Sofa: integer (nullable = true)\n",
      " |-- Wardrobe: integer (nullable = true)\n",
      " |-- Refrigerator: integer (nullable = true)\n",
      " |-- Location_indexed: double (nullable = false)\n",
      "\n"
     ]
    }
   ],
   "source": [
    "indexer_model = StringIndexer(inputCols = [\"Location\"],outputCols =[\"Location_indexed\"]).fit(df)\n",
    "df_indexed = indexer_model.transform(df)\n",
    "df_indexed = df_indexed.drop(\"Location\")\n",
    "df_indexed.printSchema()"
   ]
  },
  {
   "cell_type": "markdown",
   "id": "37ab403b",
   "metadata": {
    "id": "37ab403b"
   },
   "source": [
    "#### 4. Using vectorAssembler combines all columns (except target column i.e. 'Price') of spark DataFrame into single column (named as features). Make sure DataFrame now contains only two columns features and price. (4 marks)"
   ]
  },
  {
   "cell_type": "code",
   "execution_count": 39,
   "id": "252d21cd",
   "metadata": {
    "id": "252d21cd"
   },
   "outputs": [
    {
     "name": "stdout",
     "output_type": "stream",
     "text": [
      "+--------------------+--------+\n",
      "|            features|   Price|\n",
      "+--------------------+--------+\n",
      "|(38,[0,1,2,15,16,...| 4850000|\n",
      "|(38,[0,1,2,3,4,6,...| 4500000|\n",
      "|(38,[0,1,2,3,4,6,...| 6700000|\n",
      "|(38,[0,1,2,5,7,10...| 4500000|\n",
      "|(38,[0,1,2,5,7,10...| 5000000|\n",
      "|(38,[0,1,2,3,4,5,...|17000000|\n",
      "|(38,[0,1,2,5,10,1...|12500000|\n",
      "|(38,[0,1,2,7,10,1...|10500000|\n",
      "|(38,[0,1,2,3,4,6,...|10500000|\n",
      "|(38,[0,1,2,3,4,5,...|15000000|\n",
      "|(38,[0,1,2,3,4,6,...| 8700000|\n",
      "|(38,[0,1,2,3,5,7,...| 9000000|\n",
      "|(38,[0,1,2,3,4,5,...|11000000|\n",
      "|(38,[0,1,2,3,4,5,...|10500000|\n",
      "|(38,[0,1,2,3,4,5,...| 9700000|\n",
      "|(38,[0,1,2,3,4,5,...|10500000|\n",
      "|(38,[0,1,2,3,5,7,...| 8000000|\n",
      "|(38,[0,1,2,3,4,5,...| 8500000|\n",
      "|(38,[0,1,2,3,4,5,...| 9300000|\n",
      "|(38,[0,1,2,3,4,6,...| 9900000|\n",
      "+--------------------+--------+\n",
      "only showing top 20 rows\n",
      "\n"
     ]
    }
   ],
   "source": [
    "# # use below VectorAssembler method \n",
    "features_col = df_indexed.columns\n",
    "features_col.remove('Price')\n",
    "assembler = VectorAssembler(inputCols= features_col, outputCol= \"features\")\n",
    "\n",
    "df_assembled = assembler.transform(df_indexed)\n",
    "df_assembled = df_assembler.select('features', 'Price')\n",
    "df_assembled.show()"
   ]
  },
  {
   "cell_type": "markdown",
   "id": "2b3e168c",
   "metadata": {
    "id": "2b3e168c"
   },
   "source": [
    "#### 5. Scale the data using StandardScaler. The input columns are the features, and the output column with the rescaled that will be included in the scaled_df will be named \"features_scaled\". (3 marks)"
   ]
  },
  {
   "cell_type": "code",
   "execution_count": 43,
   "id": "f1b6fa04",
   "metadata": {
    "id": "f1b6fa04"
   },
   "outputs": [
    {
     "data": {
      "text/plain": [
       "DataFrame[features: vector, Price: int, features_scaled: vector]"
      ]
     },
     "execution_count": 43,
     "metadata": {},
     "output_type": "execute_result"
    }
   ],
   "source": [
    "# #  use below standardScaler method \n",
    "scaler = StandardScaler(\n",
    "    inputCol=\"features\",\n",
    "    outputCol=\"features_scaled\"\n",
    ")\n",
    "\n",
    "# Fit the scaler on the assembled data\n",
    "scaler_model = scaler.fit(df_assembler)\n",
    "\n",
    "# Transform the data\n",
    "scaled_df = scaler_model.transform(df_assembler)\n",
    "scaled_df"
   ]
  },
  {
   "cell_type": "markdown",
   "id": "2532f13e",
   "metadata": {
    "id": "2532f13e"
   },
   "source": [
    "#### 6.  Split the vectorised dataframe into training and test sets with approx one third records being held for testing  (2 marks)"
   ]
  },
  {
   "cell_type": "code",
   "execution_count": 44,
   "id": "20ee0009",
   "metadata": {
    "id": "20ee0009"
   },
   "outputs": [],
   "source": [
    "# use randomSplit method\n",
    "train, test = scaled_df.randomSplit([0.7, 0.3], seed=7)"
   ]
  },
  {
   "cell_type": "markdown",
   "id": "1a652a71",
   "metadata": {
    "id": "1a652a71"
   },
   "source": [
    "#### 7.. Build the LinerRegression object 'lr' by setting the required parameters. (3 marks)"
   ]
  },
  {
   "cell_type": "code",
   "execution_count": 47,
   "id": "787edfee",
   "metadata": {
    "id": "787edfee"
   },
   "outputs": [
    {
     "name": "stderr",
     "output_type": "stream",
     "text": [
      "25/04/27 11:12:52 WARN Instrumentation: [d5019b62] regParam is zero, which might cause numerical instability and overfitting.\n"
     ]
    },
    {
     "data": {
      "text/plain": [
       "DataFrame[features: vector, Price: int, features_scaled: vector, prediction: double]"
      ]
     },
     "execution_count": 47,
     "metadata": {},
     "output_type": "execute_result"
    }
   ],
   "source": [
    "# use below LinerRegression method\n",
    "lr = LinearRegression(featuresCol=\"features_scaled\", labelCol=\"Price\")\n",
    "\n",
    "lr_model = lr.fit(train)\n",
    "pred = lr_model.transform(test)\n",
    "print(pred"
   ]
  },
  {
   "cell_type": "markdown",
   "id": "77d4e85d",
   "metadata": {
    "id": "77d4e85d"
   },
   "source": [
    "#### 8. Find rmse of trained LinearRegression model on test set (3 marks)"
   ]
  },
  {
   "cell_type": "code",
   "execution_count": 51,
   "id": "0e4b028a",
   "metadata": {
    "id": "0e4b028a"
   },
   "outputs": [
    {
     "name": "stdout",
     "output_type": "stream",
     "text": [
      "RMSE:  18337853.965595588\n"
     ]
    }
   ],
   "source": [
    "# use below RegressionEvaluator method\n",
    "evaluator = RegressionEvaluator(labelCol=\"Price\", predictionCol=\"prediction\", metricName=\"rmse\")\n",
    "rmse = evaluator.evaluate(pred)\n",
    "print(\"RMSE: \", rmse)"
   ]
  }
 ],
 "metadata": {
  "colab": {
   "provenance": []
  },
  "kernelspec": {
   "display_name": "Python 3 (ipykernel)",
   "language": "python",
   "name": "python3"
  },
  "language_info": {
   "codemirror_mode": {
    "name": "ipython",
    "version": 3
   },
   "file_extension": ".py",
   "mimetype": "text/x-python",
   "name": "python",
   "nbconvert_exporter": "python",
   "pygments_lexer": "ipython3",
   "version": "3.9.18"
  }
 },
 "nbformat": 4,
 "nbformat_minor": 5
}
